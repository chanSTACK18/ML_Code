{
 "cells": [
  {
   "cell_type": "code",
   "execution_count": 1,
   "id": "a2a66289",
   "metadata": {
    "_cell_guid": "b1076dfc-b9ad-4769-8c92-a6c4dae69d19",
    "_uuid": "8f2839f25d086af736a60e9eeb907d3b93b6e0e5",
    "execution": {
     "iopub.execute_input": "2022-01-18T08:15:32.193234Z",
     "iopub.status.busy": "2022-01-18T08:15:32.191421Z",
     "iopub.status.idle": "2022-01-18T08:15:32.218476Z",
     "shell.execute_reply": "2022-01-18T08:15:32.219034Z",
     "shell.execute_reply.started": "2022-01-18T07:42:41.196381Z"
    },
    "papermill": {
     "duration": 0.06409,
     "end_time": "2022-01-18T08:15:32.219387",
     "exception": false,
     "start_time": "2022-01-18T08:15:32.155297",
     "status": "completed"
    },
    "tags": []
   },
   "outputs": [
    {
     "name": "stdout",
     "output_type": "stream",
     "text": [
      "/kaggle/input/gdsc-outr-ml-event/FINAL_DATASET_KAGGLE/sample_submission.csv\n",
      "/kaggle/input/gdsc-outr-ml-event/FINAL_DATASET_KAGGLE/train.csv\n",
      "/kaggle/input/gdsc-outr-ml-event/FINAL_DATASET_KAGGLE/test.csv\n"
     ]
    }
   ],
   "source": [
    "# This Python 3 environment comes with many helpful analytics libraries installed\n",
    "# It is defined by the kaggle/python Docker image: https://github.com/kaggle/docker-python\n",
    "# For example, here's several helpful packages to load\n",
    "\n",
    "import numpy as np # linear algebra\n",
    "import pandas as pd # data processing, CSV file I/O (e.g. pd.read_csv)\n",
    "\n",
    "# Input data files are available in the read-only \"../input/\" directory\n",
    "# For example, running this (by clicking run or pressing Shift+Enter) will list all files under the input directory\n",
    "\n",
    "import os\n",
    "for dirname, _, filenames in os.walk('/kaggle/input'):\n",
    "    for filename in filenames:\n",
    "        print(os.path.join(dirname, filename))\n",
    "\n",
    "# You can write up to 20GB to the current directory (/kaggle/working/) that gets preserved as output when you create a version using \"Save & Run All\" \n",
    "# You can also write temporary files to /kaggle/temp/, but they won't be saved outside of the current session"
   ]
  },
  {
   "cell_type": "code",
   "execution_count": 2,
   "id": "b101db78",
   "metadata": {
    "execution": {
     "iopub.execute_input": "2022-01-18T08:15:32.285389Z",
     "iopub.status.busy": "2022-01-18T08:15:32.284253Z",
     "iopub.status.idle": "2022-01-18T08:15:32.286499Z",
     "shell.execute_reply": "2022-01-18T08:15:32.287036Z",
     "shell.execute_reply.started": "2022-01-18T07:42:41.213023Z"
    },
    "papermill": {
     "duration": 0.037009,
     "end_time": "2022-01-18T08:15:32.287225",
     "exception": false,
     "start_time": "2022-01-18T08:15:32.250216",
     "status": "completed"
    },
    "tags": []
   },
   "outputs": [],
   "source": [
    "import warnings\n",
    "warnings.filterwarnings('ignore')"
   ]
  },
  {
   "cell_type": "markdown",
   "id": "14d8b1c4",
   "metadata": {
    "papermill": {
     "duration": 0.028906,
     "end_time": "2022-01-18T08:15:32.346047",
     "exception": false,
     "start_time": "2022-01-18T08:15:32.317141",
     "status": "completed"
    },
    "tags": []
   },
   "source": [
    "## Importing Data"
   ]
  },
  {
   "cell_type": "code",
   "execution_count": 3,
   "id": "666a8624",
   "metadata": {
    "execution": {
     "iopub.execute_input": "2022-01-18T08:15:32.420003Z",
     "iopub.status.busy": "2022-01-18T08:15:32.418916Z",
     "iopub.status.idle": "2022-01-18T08:15:32.538341Z",
     "shell.execute_reply": "2022-01-18T08:15:32.539012Z",
     "shell.execute_reply.started": "2022-01-18T07:42:41.226075Z"
    },
    "papermill": {
     "duration": 0.163483,
     "end_time": "2022-01-18T08:15:32.539214",
     "exception": false,
     "start_time": "2022-01-18T08:15:32.375731",
     "status": "completed"
    },
    "tags": []
   },
   "outputs": [],
   "source": [
    "train_df = pd.read_csv('../input/gdsc-outr-ml-event/FINAL_DATASET_KAGGLE/train.csv')\n",
    "test = pd.read_csv('../input/gdsc-outr-ml-event/FINAL_DATASET_KAGGLE/test.csv')"
   ]
  },
  {
   "cell_type": "markdown",
   "id": "3d4a73d6",
   "metadata": {
    "papermill": {
     "duration": 0.030934,
     "end_time": "2022-01-18T08:15:32.599705",
     "exception": false,
     "start_time": "2022-01-18T08:15:32.568771",
     "status": "completed"
    },
    "tags": []
   },
   "source": [
    "## Initial exploration of data"
   ]
  },
  {
   "cell_type": "code",
   "execution_count": 4,
   "id": "4bdba358",
   "metadata": {
    "execution": {
     "iopub.execute_input": "2022-01-18T08:15:32.668196Z",
     "iopub.status.busy": "2022-01-18T08:15:32.667181Z",
     "iopub.status.idle": "2022-01-18T08:15:32.698927Z",
     "shell.execute_reply": "2022-01-18T08:15:32.698007Z",
     "shell.execute_reply.started": "2022-01-18T07:42:41.297634Z"
    },
    "papermill": {
     "duration": 0.066414,
     "end_time": "2022-01-18T08:15:32.699108",
     "exception": false,
     "start_time": "2022-01-18T08:15:32.632694",
     "status": "completed"
    },
    "tags": []
   },
   "outputs": [
    {
     "data": {
      "text/html": [
       "<div>\n",
       "<style scoped>\n",
       "    .dataframe tbody tr th:only-of-type {\n",
       "        vertical-align: middle;\n",
       "    }\n",
       "\n",
       "    .dataframe tbody tr th {\n",
       "        vertical-align: top;\n",
       "    }\n",
       "\n",
       "    .dataframe thead th {\n",
       "        text-align: right;\n",
       "    }\n",
       "</style>\n",
       "<table border=\"1\" class=\"dataframe\">\n",
       "  <thead>\n",
       "    <tr style=\"text-align: right;\">\n",
       "      <th></th>\n",
       "      <th>ID</th>\n",
       "      <th>PREFIX</th>\n",
       "      <th>SUFFIX</th>\n",
       "      <th>MARITAL</th>\n",
       "      <th>RACE</th>\n",
       "      <th>ETHNICITY</th>\n",
       "      <th>GENDER</th>\n",
       "      <th>BIRTHPLACE</th>\n",
       "      <th>CITY</th>\n",
       "      <th>STATE</th>\n",
       "      <th>COUNTY</th>\n",
       "      <th>ZIP</th>\n",
       "      <th>HEALTHCARE_EXPENSES</th>\n",
       "      <th>HEALTHCARE_COVERAGE</th>\n",
       "    </tr>\n",
       "  </thead>\n",
       "  <tbody>\n",
       "    <tr>\n",
       "      <th>0</th>\n",
       "      <td>1</td>\n",
       "      <td>NaN</td>\n",
       "      <td>NaN</td>\n",
       "      <td>NaN</td>\n",
       "      <td>white</td>\n",
       "      <td>nonhispanic</td>\n",
       "      <td>F</td>\n",
       "      <td>Beverly  Massachusetts  US</td>\n",
       "      <td>Holden</td>\n",
       "      <td>Massachusetts</td>\n",
       "      <td>Middlesex County</td>\n",
       "      <td>2476.0</td>\n",
       "      <td>1.517539e+05</td>\n",
       "      <td>9316.929057</td>\n",
       "    </tr>\n",
       "    <tr>\n",
       "      <th>1</th>\n",
       "      <td>2</td>\n",
       "      <td>Mrs.</td>\n",
       "      <td>NaN</td>\n",
       "      <td>M</td>\n",
       "      <td>white</td>\n",
       "      <td>hispanic</td>\n",
       "      <td>F</td>\n",
       "      <td>Townsend  Massachusetts  US</td>\n",
       "      <td>Chelsea</td>\n",
       "      <td>Massachusetts</td>\n",
       "      <td>Hampshire County</td>\n",
       "      <td>1103.0</td>\n",
       "      <td>1.096723e+05</td>\n",
       "      <td>3545.476208</td>\n",
       "    </tr>\n",
       "    <tr>\n",
       "      <th>2</th>\n",
       "      <td>3</td>\n",
       "      <td>Mrs.</td>\n",
       "      <td>NaN</td>\n",
       "      <td>S</td>\n",
       "      <td>white</td>\n",
       "      <td>nonhispanic</td>\n",
       "      <td>F</td>\n",
       "      <td>Boston  Massachusetts  US</td>\n",
       "      <td>Arlington</td>\n",
       "      <td>Massachusetts</td>\n",
       "      <td>Middlesex County</td>\n",
       "      <td>NaN</td>\n",
       "      <td>9.851484e+05</td>\n",
       "      <td>8078.460265</td>\n",
       "    </tr>\n",
       "    <tr>\n",
       "      <th>3</th>\n",
       "      <td>4</td>\n",
       "      <td>NaN</td>\n",
       "      <td>NaN</td>\n",
       "      <td>NaN</td>\n",
       "      <td>white</td>\n",
       "      <td>nonhispanic</td>\n",
       "      <td>F</td>\n",
       "      <td>Brookline  Massachusetts  US</td>\n",
       "      <td>Springfield</td>\n",
       "      <td>Massachusetts</td>\n",
       "      <td>Worcester County</td>\n",
       "      <td>NaN</td>\n",
       "      <td>6.955607e+03</td>\n",
       "      <td>512.371734</td>\n",
       "    </tr>\n",
       "    <tr>\n",
       "      <th>4</th>\n",
       "      <td>5</td>\n",
       "      <td>Mr.</td>\n",
       "      <td>NaN</td>\n",
       "      <td>M</td>\n",
       "      <td>native</td>\n",
       "      <td>nonhispanic</td>\n",
       "      <td>M</td>\n",
       "      <td>Freetown  Massachusetts  US</td>\n",
       "      <td>Watertown</td>\n",
       "      <td>Massachusetts</td>\n",
       "      <td>Middlesex County</td>\n",
       "      <td>NaN</td>\n",
       "      <td>1.030810e+06</td>\n",
       "      <td>3637.117541</td>\n",
       "    </tr>\n",
       "  </tbody>\n",
       "</table>\n",
       "</div>"
      ],
      "text/plain": [
       "   ID PREFIX SUFFIX MARITAL    RACE    ETHNICITY GENDER  \\\n",
       "0   1    NaN    NaN     NaN   white  nonhispanic      F   \n",
       "1   2   Mrs.    NaN       M   white     hispanic      F   \n",
       "2   3   Mrs.    NaN       S   white  nonhispanic      F   \n",
       "3   4    NaN    NaN     NaN   white  nonhispanic      F   \n",
       "4   5    Mr.    NaN       M  native  nonhispanic      M   \n",
       "\n",
       "                     BIRTHPLACE         CITY          STATE            COUNTY  \\\n",
       "0    Beverly  Massachusetts  US       Holden  Massachusetts  Middlesex County   \n",
       "1   Townsend  Massachusetts  US      Chelsea  Massachusetts  Hampshire County   \n",
       "2     Boston  Massachusetts  US    Arlington  Massachusetts  Middlesex County   \n",
       "3  Brookline  Massachusetts  US  Springfield  Massachusetts  Worcester County   \n",
       "4   Freetown  Massachusetts  US    Watertown  Massachusetts  Middlesex County   \n",
       "\n",
       "      ZIP  HEALTHCARE_EXPENSES  HEALTHCARE_COVERAGE  \n",
       "0  2476.0         1.517539e+05          9316.929057  \n",
       "1  1103.0         1.096723e+05          3545.476208  \n",
       "2     NaN         9.851484e+05          8078.460265  \n",
       "3     NaN         6.955607e+03           512.371734  \n",
       "4     NaN         1.030810e+06          3637.117541  "
      ]
     },
     "execution_count": 4,
     "metadata": {},
     "output_type": "execute_result"
    }
   ],
   "source": [
    "train_df.head(5)"
   ]
  },
  {
   "cell_type": "code",
   "execution_count": 5,
   "id": "46a0ec85",
   "metadata": {
    "execution": {
     "iopub.execute_input": "2022-01-18T08:15:32.782389Z",
     "iopub.status.busy": "2022-01-18T08:15:32.773487Z",
     "iopub.status.idle": "2022-01-18T08:15:32.785052Z",
     "shell.execute_reply": "2022-01-18T08:15:32.785596Z",
     "shell.execute_reply.started": "2022-01-18T07:42:41.323652Z"
    },
    "papermill": {
     "duration": 0.054676,
     "end_time": "2022-01-18T08:15:32.785776",
     "exception": false,
     "start_time": "2022-01-18T08:15:32.731100",
     "status": "completed"
    },
    "tags": []
   },
   "outputs": [
    {
     "data": {
      "text/html": [
       "<div>\n",
       "<style scoped>\n",
       "    .dataframe tbody tr th:only-of-type {\n",
       "        vertical-align: middle;\n",
       "    }\n",
       "\n",
       "    .dataframe tbody tr th {\n",
       "        vertical-align: top;\n",
       "    }\n",
       "\n",
       "    .dataframe thead th {\n",
       "        text-align: right;\n",
       "    }\n",
       "</style>\n",
       "<table border=\"1\" class=\"dataframe\">\n",
       "  <thead>\n",
       "    <tr style=\"text-align: right;\">\n",
       "      <th></th>\n",
       "      <th>ID</th>\n",
       "      <th>PREFIX</th>\n",
       "      <th>SUFFIX</th>\n",
       "      <th>MARITAL</th>\n",
       "      <th>RACE</th>\n",
       "      <th>ETHNICITY</th>\n",
       "      <th>GENDER</th>\n",
       "      <th>BIRTHPLACE</th>\n",
       "      <th>CITY</th>\n",
       "      <th>STATE</th>\n",
       "      <th>COUNTY</th>\n",
       "      <th>ZIP</th>\n",
       "      <th>HEALTHCARE_EXPENSES</th>\n",
       "      <th>HEALTHCARE_COVERAGE</th>\n",
       "    </tr>\n",
       "  </thead>\n",
       "  <tbody>\n",
       "    <tr>\n",
       "      <th>14995</th>\n",
       "      <td>14996</td>\n",
       "      <td>NaN</td>\n",
       "      <td>NaN</td>\n",
       "      <td>NaN</td>\n",
       "      <td>white</td>\n",
       "      <td>nonhispanic</td>\n",
       "      <td>M</td>\n",
       "      <td>Malden  Massachusetts  US</td>\n",
       "      <td>Seekonk</td>\n",
       "      <td>Massachusetts</td>\n",
       "      <td>Norfolk County</td>\n",
       "      <td>NaN</td>\n",
       "      <td>1.407689e+05</td>\n",
       "      <td>3751.622529</td>\n",
       "    </tr>\n",
       "    <tr>\n",
       "      <th>14996</th>\n",
       "      <td>14997</td>\n",
       "      <td>NaN</td>\n",
       "      <td>NaN</td>\n",
       "      <td>NaN</td>\n",
       "      <td>asian</td>\n",
       "      <td>nonhispanic</td>\n",
       "      <td>F</td>\n",
       "      <td>Boston  Massachusetts  US</td>\n",
       "      <td>New Bedford</td>\n",
       "      <td>Massachusetts</td>\n",
       "      <td>Middlesex County</td>\n",
       "      <td>NaN</td>\n",
       "      <td>4.837264e+04</td>\n",
       "      <td>3006.324874</td>\n",
       "    </tr>\n",
       "    <tr>\n",
       "      <th>14997</th>\n",
       "      <td>14998</td>\n",
       "      <td>Mr.</td>\n",
       "      <td>NaN</td>\n",
       "      <td>M</td>\n",
       "      <td>black</td>\n",
       "      <td>nonhispanic</td>\n",
       "      <td>M</td>\n",
       "      <td>Springfield  Massachusetts  US</td>\n",
       "      <td>Orange</td>\n",
       "      <td>Massachusetts</td>\n",
       "      <td>Worcester County</td>\n",
       "      <td>NaN</td>\n",
       "      <td>1.236076e+06</td>\n",
       "      <td>4729.531901</td>\n",
       "    </tr>\n",
       "    <tr>\n",
       "      <th>14998</th>\n",
       "      <td>14999</td>\n",
       "      <td>Mrs.</td>\n",
       "      <td>NaN</td>\n",
       "      <td>M</td>\n",
       "      <td>white</td>\n",
       "      <td>nonhispanic</td>\n",
       "      <td>M</td>\n",
       "      <td>Cambridge  Massachusetts  US</td>\n",
       "      <td>Chicopee</td>\n",
       "      <td>Massachusetts</td>\n",
       "      <td>Norfolk County</td>\n",
       "      <td>1027.0</td>\n",
       "      <td>1.085180e+05</td>\n",
       "      <td>2424.408685</td>\n",
       "    </tr>\n",
       "    <tr>\n",
       "      <th>14999</th>\n",
       "      <td>15000</td>\n",
       "      <td>Mr.</td>\n",
       "      <td>JD</td>\n",
       "      <td>M</td>\n",
       "      <td>white</td>\n",
       "      <td>nonhispanic</td>\n",
       "      <td>M</td>\n",
       "      <td>Revere  Massachusetts  US</td>\n",
       "      <td>Barnstable</td>\n",
       "      <td>Massachusetts</td>\n",
       "      <td>Norfolk County</td>\n",
       "      <td>2129.0</td>\n",
       "      <td>9.565430e+05</td>\n",
       "      <td>7053.570973</td>\n",
       "    </tr>\n",
       "  </tbody>\n",
       "</table>\n",
       "</div>"
      ],
      "text/plain": [
       "          ID PREFIX SUFFIX MARITAL   RACE    ETHNICITY GENDER  \\\n",
       "14995  14996    NaN    NaN     NaN  white  nonhispanic      M   \n",
       "14996  14997    NaN    NaN     NaN  asian  nonhispanic      F   \n",
       "14997  14998    Mr.    NaN       M  black  nonhispanic      M   \n",
       "14998  14999   Mrs.    NaN       M  white  nonhispanic      M   \n",
       "14999  15000    Mr.     JD       M  white  nonhispanic      M   \n",
       "\n",
       "                           BIRTHPLACE         CITY          STATE  \\\n",
       "14995       Malden  Massachusetts  US      Seekonk  Massachusetts   \n",
       "14996       Boston  Massachusetts  US  New Bedford  Massachusetts   \n",
       "14997  Springfield  Massachusetts  US       Orange  Massachusetts   \n",
       "14998    Cambridge  Massachusetts  US     Chicopee  Massachusetts   \n",
       "14999       Revere  Massachusetts  US   Barnstable  Massachusetts   \n",
       "\n",
       "                 COUNTY     ZIP  HEALTHCARE_EXPENSES  HEALTHCARE_COVERAGE  \n",
       "14995    Norfolk County     NaN         1.407689e+05          3751.622529  \n",
       "14996  Middlesex County     NaN         4.837264e+04          3006.324874  \n",
       "14997  Worcester County     NaN         1.236076e+06          4729.531901  \n",
       "14998    Norfolk County  1027.0         1.085180e+05          2424.408685  \n",
       "14999    Norfolk County  2129.0         9.565430e+05          7053.570973  "
      ]
     },
     "execution_count": 5,
     "metadata": {},
     "output_type": "execute_result"
    }
   ],
   "source": [
    "train_df.tail()"
   ]
  },
  {
   "cell_type": "code",
   "execution_count": 6,
   "id": "9a5ad429",
   "metadata": {
    "execution": {
     "iopub.execute_input": "2022-01-18T08:15:32.851847Z",
     "iopub.status.busy": "2022-01-18T08:15:32.851180Z",
     "iopub.status.idle": "2022-01-18T08:15:32.855828Z",
     "shell.execute_reply": "2022-01-18T08:15:32.856378Z",
     "shell.execute_reply.started": "2022-01-18T07:42:41.351134Z"
    },
    "papermill": {
     "duration": 0.039174,
     "end_time": "2022-01-18T08:15:32.856577",
     "exception": false,
     "start_time": "2022-01-18T08:15:32.817403",
     "status": "completed"
    },
    "tags": []
   },
   "outputs": [
    {
     "name": "stdout",
     "output_type": "stream",
     "text": [
      "Initial data shape:  (15000, 14)\n"
     ]
    }
   ],
   "source": [
    "print('Initial data shape: ', train_df.shape)"
   ]
  },
  {
   "cell_type": "code",
   "execution_count": 7,
   "id": "b6d27063",
   "metadata": {
    "execution": {
     "iopub.execute_input": "2022-01-18T08:15:32.924034Z",
     "iopub.status.busy": "2022-01-18T08:15:32.923388Z",
     "iopub.status.idle": "2022-01-18T08:15:32.962339Z",
     "shell.execute_reply": "2022-01-18T08:15:32.962849Z",
     "shell.execute_reply.started": "2022-01-18T07:42:41.373383Z"
    },
    "papermill": {
     "duration": 0.073415,
     "end_time": "2022-01-18T08:15:32.963032",
     "exception": false,
     "start_time": "2022-01-18T08:15:32.889617",
     "status": "completed"
    },
    "tags": []
   },
   "outputs": [
    {
     "name": "stdout",
     "output_type": "stream",
     "text": [
      "<class 'pandas.core.frame.DataFrame'>\n",
      "RangeIndex: 15000 entries, 0 to 14999\n",
      "Data columns (total 14 columns):\n",
      " #   Column               Non-Null Count  Dtype  \n",
      "---  ------               --------------  -----  \n",
      " 0   ID                   15000 non-null  int64  \n",
      " 1   PREFIX               12336 non-null  object \n",
      " 2   SUFFIX               1445 non-null   object \n",
      " 3   MARITAL              11411 non-null  object \n",
      " 4   RACE                 15000 non-null  object \n",
      " 5   ETHNICITY            15000 non-null  object \n",
      " 6   GENDER               15000 non-null  object \n",
      " 7   BIRTHPLACE           15000 non-null  object \n",
      " 8   CITY                 15000 non-null  object \n",
      " 9   STATE                15000 non-null  object \n",
      " 10  COUNTY               15000 non-null  object \n",
      " 11  ZIP                  7921 non-null   float64\n",
      " 12  HEALTHCARE_EXPENSES  15000 non-null  float64\n",
      " 13  HEALTHCARE_COVERAGE  15000 non-null  float64\n",
      "dtypes: float64(3), int64(1), object(10)\n",
      "memory usage: 1.6+ MB\n"
     ]
    }
   ],
   "source": [
    "train_df.info()"
   ]
  },
  {
   "cell_type": "code",
   "execution_count": 8,
   "id": "f09d43a4",
   "metadata": {
    "execution": {
     "iopub.execute_input": "2022-01-18T08:15:33.028627Z",
     "iopub.status.busy": "2022-01-18T08:15:33.027947Z",
     "iopub.status.idle": "2022-01-18T08:15:33.055925Z",
     "shell.execute_reply": "2022-01-18T08:15:33.055411Z",
     "shell.execute_reply.started": "2022-01-18T07:42:41.414031Z"
    },
    "papermill": {
     "duration": 0.061591,
     "end_time": "2022-01-18T08:15:33.056084",
     "exception": false,
     "start_time": "2022-01-18T08:15:32.994493",
     "status": "completed"
    },
    "tags": []
   },
   "outputs": [
    {
     "data": {
      "text/html": [
       "<div>\n",
       "<style scoped>\n",
       "    .dataframe tbody tr th:only-of-type {\n",
       "        vertical-align: middle;\n",
       "    }\n",
       "\n",
       "    .dataframe tbody tr th {\n",
       "        vertical-align: top;\n",
       "    }\n",
       "\n",
       "    .dataframe thead th {\n",
       "        text-align: right;\n",
       "    }\n",
       "</style>\n",
       "<table border=\"1\" class=\"dataframe\">\n",
       "  <thead>\n",
       "    <tr style=\"text-align: right;\">\n",
       "      <th></th>\n",
       "      <th>ID</th>\n",
       "      <th>ZIP</th>\n",
       "      <th>HEALTHCARE_EXPENSES</th>\n",
       "      <th>HEALTHCARE_COVERAGE</th>\n",
       "    </tr>\n",
       "  </thead>\n",
       "  <tbody>\n",
       "    <tr>\n",
       "      <th>count</th>\n",
       "      <td>15000.000000</td>\n",
       "      <td>7921.00000</td>\n",
       "      <td>1.500000e+04</td>\n",
       "      <td>15000.000000</td>\n",
       "    </tr>\n",
       "    <tr>\n",
       "      <th>mean</th>\n",
       "      <td>7500.500000</td>\n",
       "      <td>1905.15945</td>\n",
       "      <td>8.028223e+05</td>\n",
       "      <td>9615.676559</td>\n",
       "    </tr>\n",
       "    <tr>\n",
       "      <th>std</th>\n",
       "      <td>4330.271354</td>\n",
       "      <td>492.77688</td>\n",
       "      <td>6.039434e+05</td>\n",
       "      <td>28347.015134</td>\n",
       "    </tr>\n",
       "    <tr>\n",
       "      <th>min</th>\n",
       "      <td>1.000000</td>\n",
       "      <td>1001.00000</td>\n",
       "      <td>-5.801077e+04</td>\n",
       "      <td>-2426.575654</td>\n",
       "    </tr>\n",
       "    <tr>\n",
       "      <th>25%</th>\n",
       "      <td>3750.750000</td>\n",
       "      <td>1583.00000</td>\n",
       "      <td>1.152892e+05</td>\n",
       "      <td>2574.624010</td>\n",
       "    </tr>\n",
       "    <tr>\n",
       "      <th>50%</th>\n",
       "      <td>7500.500000</td>\n",
       "      <td>2081.00000</td>\n",
       "      <td>9.129525e+05</td>\n",
       "      <td>4983.794586</td>\n",
       "    </tr>\n",
       "    <tr>\n",
       "      <th>75%</th>\n",
       "      <td>11250.250000</td>\n",
       "      <td>2155.00000</td>\n",
       "      <td>1.362469e+06</td>\n",
       "      <td>9277.467110</td>\n",
       "    </tr>\n",
       "    <tr>\n",
       "      <th>max</th>\n",
       "      <td>15000.000000</td>\n",
       "      <td>2861.00000</td>\n",
       "      <td>1.974367e+06</td>\n",
       "      <td>499876.340800</td>\n",
       "    </tr>\n",
       "  </tbody>\n",
       "</table>\n",
       "</div>"
      ],
      "text/plain": [
       "                 ID         ZIP  HEALTHCARE_EXPENSES  HEALTHCARE_COVERAGE\n",
       "count  15000.000000  7921.00000         1.500000e+04         15000.000000\n",
       "mean    7500.500000  1905.15945         8.028223e+05          9615.676559\n",
       "std     4330.271354   492.77688         6.039434e+05         28347.015134\n",
       "min        1.000000  1001.00000        -5.801077e+04         -2426.575654\n",
       "25%     3750.750000  1583.00000         1.152892e+05          2574.624010\n",
       "50%     7500.500000  2081.00000         9.129525e+05          4983.794586\n",
       "75%    11250.250000  2155.00000         1.362469e+06          9277.467110\n",
       "max    15000.000000  2861.00000         1.974367e+06        499876.340800"
      ]
     },
     "execution_count": 8,
     "metadata": {},
     "output_type": "execute_result"
    }
   ],
   "source": [
    "train_df.describe()"
   ]
  },
  {
   "cell_type": "code",
   "execution_count": 9,
   "id": "d798ff9c",
   "metadata": {
    "execution": {
     "iopub.execute_input": "2022-01-18T08:15:33.123435Z",
     "iopub.status.busy": "2022-01-18T08:15:33.122756Z",
     "iopub.status.idle": "2022-01-18T08:15:33.147908Z",
     "shell.execute_reply": "2022-01-18T08:15:33.148581Z",
     "shell.execute_reply.started": "2022-01-18T07:42:41.451977Z"
    },
    "papermill": {
     "duration": 0.060875,
     "end_time": "2022-01-18T08:15:33.148769",
     "exception": false,
     "start_time": "2022-01-18T08:15:33.087894",
     "status": "completed"
    },
    "tags": []
   },
   "outputs": [
    {
     "data": {
      "text/plain": [
       "ID                         0\n",
       "PREFIX                  2664\n",
       "SUFFIX                 13555\n",
       "MARITAL                 3589\n",
       "RACE                       0\n",
       "ETHNICITY                  0\n",
       "GENDER                     0\n",
       "BIRTHPLACE                 0\n",
       "CITY                       0\n",
       "STATE                      0\n",
       "COUNTY                     0\n",
       "ZIP                     7079\n",
       "HEALTHCARE_EXPENSES        0\n",
       "HEALTHCARE_COVERAGE        0\n",
       "dtype: int64"
      ]
     },
     "execution_count": 9,
     "metadata": {},
     "output_type": "execute_result"
    }
   ],
   "source": [
    "train_df.isna().sum()"
   ]
  },
  {
   "cell_type": "code",
   "execution_count": 10,
   "id": "508fb3b0",
   "metadata": {
    "execution": {
     "iopub.execute_input": "2022-01-18T08:15:33.222537Z",
     "iopub.status.busy": "2022-01-18T08:15:33.221666Z",
     "iopub.status.idle": "2022-01-18T08:15:33.224969Z",
     "shell.execute_reply": "2022-01-18T08:15:33.225475Z",
     "shell.execute_reply.started": "2022-01-18T07:42:41.481391Z"
    },
    "papermill": {
     "duration": 0.04323,
     "end_time": "2022-01-18T08:15:33.225648",
     "exception": false,
     "start_time": "2022-01-18T08:15:33.182418",
     "status": "completed"
    },
    "tags": []
   },
   "outputs": [
    {
     "data": {
      "text/plain": [
       "Index(['ID', 'PREFIX', 'SUFFIX', 'MARITAL', 'RACE', 'ETHNICITY', 'GENDER',\n",
       "       'BIRTHPLACE', 'CITY', 'STATE', 'COUNTY', 'ZIP', 'HEALTHCARE_EXPENSES',\n",
       "       'HEALTHCARE_COVERAGE'],\n",
       "      dtype='object')"
      ]
     },
     "execution_count": 10,
     "metadata": {},
     "output_type": "execute_result"
    }
   ],
   "source": [
    "train_df.columns"
   ]
  },
  {
   "cell_type": "markdown",
   "id": "d21706b0",
   "metadata": {
    "papermill": {
     "duration": 0.033317,
     "end_time": "2022-01-18T08:15:33.291604",
     "exception": false,
     "start_time": "2022-01-18T08:15:33.258287",
     "status": "completed"
    },
    "tags": []
   },
   "source": [
    "## Target value"
   ]
  },
  {
   "cell_type": "code",
   "execution_count": 11,
   "id": "6d4515dd",
   "metadata": {
    "execution": {
     "iopub.execute_input": "2022-01-18T08:15:33.362236Z",
     "iopub.status.busy": "2022-01-18T08:15:33.361168Z",
     "iopub.status.idle": "2022-01-18T08:15:33.369190Z",
     "shell.execute_reply": "2022-01-18T08:15:33.370300Z",
     "shell.execute_reply.started": "2022-01-18T07:42:41.500699Z"
    },
    "papermill": {
     "duration": 0.045656,
     "end_time": "2022-01-18T08:15:33.370597",
     "exception": false,
     "start_time": "2022-01-18T08:15:33.324941",
     "status": "completed"
    },
    "tags": []
   },
   "outputs": [
    {
     "name": "stdout",
     "output_type": "stream",
     "text": [
      "0        9316.929057\n",
      "1        3545.476208\n",
      "2        8078.460265\n",
      "3         512.371734\n",
      "4        3637.117541\n",
      "            ...     \n",
      "14995    3751.622529\n",
      "14996    3006.324874\n",
      "14997    4729.531901\n",
      "14998    2424.408685\n",
      "14999    7053.570973\n",
      "Name: HEALTHCARE_COVERAGE, Length: 15000, dtype: float64\n"
     ]
    }
   ],
   "source": [
    "Y = train_df['HEALTHCARE_COVERAGE']\n",
    "print(Y)"
   ]
  },
  {
   "cell_type": "code",
   "execution_count": 12,
   "id": "f8f00a31",
   "metadata": {
    "execution": {
     "iopub.execute_input": "2022-01-18T08:15:33.441956Z",
     "iopub.status.busy": "2022-01-18T08:15:33.441321Z",
     "iopub.status.idle": "2022-01-18T08:15:33.456882Z",
     "shell.execute_reply": "2022-01-18T08:15:33.457795Z",
     "shell.execute_reply.started": "2022-01-18T07:42:41.517234Z"
    },
    "papermill": {
     "duration": 0.052704,
     "end_time": "2022-01-18T08:15:33.458025",
     "exception": false,
     "start_time": "2022-01-18T08:15:33.405321",
     "status": "completed"
    },
    "tags": []
   },
   "outputs": [
    {
     "data": {
      "text/html": [
       "<div>\n",
       "<style scoped>\n",
       "    .dataframe tbody tr th:only-of-type {\n",
       "        vertical-align: middle;\n",
       "    }\n",
       "\n",
       "    .dataframe tbody tr th {\n",
       "        vertical-align: top;\n",
       "    }\n",
       "\n",
       "    .dataframe thead th {\n",
       "        text-align: right;\n",
       "    }\n",
       "</style>\n",
       "<table border=\"1\" class=\"dataframe\">\n",
       "  <thead>\n",
       "    <tr style=\"text-align: right;\">\n",
       "      <th></th>\n",
       "      <th>RACE</th>\n",
       "      <th>ETHNICITY</th>\n",
       "      <th>GENDER</th>\n",
       "      <th>BIRTHPLACE</th>\n",
       "      <th>CITY</th>\n",
       "      <th>COUNTY</th>\n",
       "      <th>HEALTHCARE_EXPENSES</th>\n",
       "    </tr>\n",
       "  </thead>\n",
       "  <tbody>\n",
       "    <tr>\n",
       "      <th>0</th>\n",
       "      <td>white</td>\n",
       "      <td>nonhispanic</td>\n",
       "      <td>F</td>\n",
       "      <td>Beverly  Massachusetts  US</td>\n",
       "      <td>Holden</td>\n",
       "      <td>Middlesex County</td>\n",
       "      <td>1.517539e+05</td>\n",
       "    </tr>\n",
       "    <tr>\n",
       "      <th>1</th>\n",
       "      <td>white</td>\n",
       "      <td>hispanic</td>\n",
       "      <td>F</td>\n",
       "      <td>Townsend  Massachusetts  US</td>\n",
       "      <td>Chelsea</td>\n",
       "      <td>Hampshire County</td>\n",
       "      <td>1.096723e+05</td>\n",
       "    </tr>\n",
       "    <tr>\n",
       "      <th>2</th>\n",
       "      <td>white</td>\n",
       "      <td>nonhispanic</td>\n",
       "      <td>F</td>\n",
       "      <td>Boston  Massachusetts  US</td>\n",
       "      <td>Arlington</td>\n",
       "      <td>Middlesex County</td>\n",
       "      <td>9.851484e+05</td>\n",
       "    </tr>\n",
       "    <tr>\n",
       "      <th>3</th>\n",
       "      <td>white</td>\n",
       "      <td>nonhispanic</td>\n",
       "      <td>F</td>\n",
       "      <td>Brookline  Massachusetts  US</td>\n",
       "      <td>Springfield</td>\n",
       "      <td>Worcester County</td>\n",
       "      <td>6.955607e+03</td>\n",
       "    </tr>\n",
       "    <tr>\n",
       "      <th>4</th>\n",
       "      <td>native</td>\n",
       "      <td>nonhispanic</td>\n",
       "      <td>M</td>\n",
       "      <td>Freetown  Massachusetts  US</td>\n",
       "      <td>Watertown</td>\n",
       "      <td>Middlesex County</td>\n",
       "      <td>1.030810e+06</td>\n",
       "    </tr>\n",
       "  </tbody>\n",
       "</table>\n",
       "</div>"
      ],
      "text/plain": [
       "     RACE    ETHNICITY GENDER                    BIRTHPLACE         CITY  \\\n",
       "0   white  nonhispanic      F    Beverly  Massachusetts  US       Holden   \n",
       "1   white     hispanic      F   Townsend  Massachusetts  US      Chelsea   \n",
       "2   white  nonhispanic      F     Boston  Massachusetts  US    Arlington   \n",
       "3   white  nonhispanic      F  Brookline  Massachusetts  US  Springfield   \n",
       "4  native  nonhispanic      M   Freetown  Massachusetts  US    Watertown   \n",
       "\n",
       "             COUNTY  HEALTHCARE_EXPENSES  \n",
       "0  Middlesex County         1.517539e+05  \n",
       "1  Hampshire County         1.096723e+05  \n",
       "2  Middlesex County         9.851484e+05  \n",
       "3  Worcester County         6.955607e+03  \n",
       "4  Middlesex County         1.030810e+06  "
      ]
     },
     "execution_count": 12,
     "metadata": {},
     "output_type": "execute_result"
    }
   ],
   "source": [
    "X = train_df[[  'RACE', 'ETHNICITY', 'GENDER', 'BIRTHPLACE', 'CITY', 'COUNTY',  'HEALTHCARE_EXPENSES']]\n",
    "X.head()"
   ]
  },
  {
   "cell_type": "code",
   "execution_count": 13,
   "id": "a130c5c2",
   "metadata": {
    "execution": {
     "iopub.execute_input": "2022-01-18T08:15:33.528145Z",
     "iopub.status.busy": "2022-01-18T08:15:33.527493Z",
     "iopub.status.idle": "2022-01-18T08:15:34.602044Z",
     "shell.execute_reply": "2022-01-18T08:15:34.601500Z",
     "shell.execute_reply.started": "2022-01-18T07:42:41.544843Z"
    },
    "papermill": {
     "duration": 1.110349,
     "end_time": "2022-01-18T08:15:34.602222",
     "exception": false,
     "start_time": "2022-01-18T08:15:33.491873",
     "status": "completed"
    },
    "tags": []
   },
   "outputs": [],
   "source": [
    "from sklearn.preprocessing import LabelEncoder\n",
    "from sklearn import utils"
   ]
  },
  {
   "cell_type": "code",
   "execution_count": 14,
   "id": "9e9977a6",
   "metadata": {
    "execution": {
     "iopub.execute_input": "2022-01-18T08:15:34.692953Z",
     "iopub.status.busy": "2022-01-18T08:15:34.692026Z",
     "iopub.status.idle": "2022-01-18T08:15:34.726664Z",
     "shell.execute_reply": "2022-01-18T08:15:34.727709Z",
     "shell.execute_reply.started": "2022-01-18T07:42:41.559153Z"
    },
    "papermill": {
     "duration": 0.087986,
     "end_time": "2022-01-18T08:15:34.727975",
     "exception": false,
     "start_time": "2022-01-18T08:15:34.639989",
     "status": "completed"
    },
    "tags": []
   },
   "outputs": [
    {
     "data": {
      "text/html": [
       "<div>\n",
       "<style scoped>\n",
       "    .dataframe tbody tr th:only-of-type {\n",
       "        vertical-align: middle;\n",
       "    }\n",
       "\n",
       "    .dataframe tbody tr th {\n",
       "        vertical-align: top;\n",
       "    }\n",
       "\n",
       "    .dataframe thead th {\n",
       "        text-align: right;\n",
       "    }\n",
       "</style>\n",
       "<table border=\"1\" class=\"dataframe\">\n",
       "  <thead>\n",
       "    <tr style=\"text-align: right;\">\n",
       "      <th></th>\n",
       "      <th>RACE</th>\n",
       "      <th>ETHNICITY</th>\n",
       "      <th>GENDER</th>\n",
       "      <th>BIRTHPLACE</th>\n",
       "      <th>CITY</th>\n",
       "      <th>COUNTY</th>\n",
       "      <th>HEALTHCARE_EXPENSES</th>\n",
       "    </tr>\n",
       "  </thead>\n",
       "  <tbody>\n",
       "    <tr>\n",
       "      <th>0</th>\n",
       "      <td>4</td>\n",
       "      <td>1</td>\n",
       "      <td>0</td>\n",
       "      <td>32</td>\n",
       "      <td>118</td>\n",
       "      <td>8</td>\n",
       "      <td>4566</td>\n",
       "    </tr>\n",
       "    <tr>\n",
       "      <th>1</th>\n",
       "      <td>4</td>\n",
       "      <td>0</td>\n",
       "      <td>0</td>\n",
       "      <td>308</td>\n",
       "      <td>52</td>\n",
       "      <td>7</td>\n",
       "      <td>3518</td>\n",
       "    </tr>\n",
       "    <tr>\n",
       "      <th>2</th>\n",
       "      <td>4</td>\n",
       "      <td>1</td>\n",
       "      <td>0</td>\n",
       "      <td>38</td>\n",
       "      <td>8</td>\n",
       "      <td>8</td>\n",
       "      <td>8096</td>\n",
       "    </tr>\n",
       "    <tr>\n",
       "      <th>3</th>\n",
       "      <td>4</td>\n",
       "      <td>1</td>\n",
       "      <td>0</td>\n",
       "      <td>49</td>\n",
       "      <td>247</td>\n",
       "      <td>13</td>\n",
       "      <td>131</td>\n",
       "    </tr>\n",
       "    <tr>\n",
       "      <th>4</th>\n",
       "      <td>2</td>\n",
       "      <td>1</td>\n",
       "      <td>1</td>\n",
       "      <td>105</td>\n",
       "      <td>274</td>\n",
       "      <td>8</td>\n",
       "      <td>8527</td>\n",
       "    </tr>\n",
       "  </tbody>\n",
       "</table>\n",
       "</div>"
      ],
      "text/plain": [
       "   RACE  ETHNICITY  GENDER  BIRTHPLACE  CITY  COUNTY  HEALTHCARE_EXPENSES\n",
       "0     4          1       0          32   118       8                 4566\n",
       "1     4          0       0         308    52       7                 3518\n",
       "2     4          1       0          38     8       8                 8096\n",
       "3     4          1       0          49   247      13                  131\n",
       "4     2          1       1         105   274       8                 8527"
      ]
     },
     "execution_count": 14,
     "metadata": {},
     "output_type": "execute_result"
    }
   ],
   "source": [
    "encoder = LabelEncoder()\n",
    "X = X.apply(encoder.fit_transform)\n",
    "X.head()"
   ]
  },
  {
   "cell_type": "code",
   "execution_count": 15,
   "id": "35b310b5",
   "metadata": {
    "execution": {
     "iopub.execute_input": "2022-01-18T08:15:34.801459Z",
     "iopub.status.busy": "2022-01-18T08:15:34.800469Z",
     "iopub.status.idle": "2022-01-18T08:15:34.805816Z",
     "shell.execute_reply": "2022-01-18T08:15:34.806415Z",
     "shell.execute_reply.started": "2022-01-18T07:52:24.902428Z"
    },
    "papermill": {
     "duration": 0.043005,
     "end_time": "2022-01-18T08:15:34.806590",
     "exception": false,
     "start_time": "2022-01-18T08:15:34.763585",
     "status": "completed"
    },
    "tags": []
   },
   "outputs": [
    {
     "data": {
      "text/plain": [
       "(15000, 7)"
      ]
     },
     "execution_count": 15,
     "metadata": {},
     "output_type": "execute_result"
    }
   ],
   "source": [
    "X.shape"
   ]
  },
  {
   "cell_type": "markdown",
   "id": "0e016831",
   "metadata": {
    "papermill": {
     "duration": 0.033734,
     "end_time": "2022-01-18T08:15:34.877253",
     "exception": false,
     "start_time": "2022-01-18T08:15:34.843519",
     "status": "completed"
    },
    "tags": []
   },
   "source": [
    "## Exploratory Data Analysis"
   ]
  },
  {
   "cell_type": "code",
   "execution_count": 16,
   "id": "004584fa",
   "metadata": {
    "execution": {
     "iopub.execute_input": "2022-01-18T08:15:34.949554Z",
     "iopub.status.busy": "2022-01-18T08:15:34.948545Z",
     "iopub.status.idle": "2022-01-18T08:15:35.106204Z",
     "shell.execute_reply": "2022-01-18T08:15:35.106843Z",
     "shell.execute_reply.started": "2022-01-18T07:42:41.612738Z"
    },
    "papermill": {
     "duration": 0.195948,
     "end_time": "2022-01-18T08:15:35.107042",
     "exception": false,
     "start_time": "2022-01-18T08:15:34.911094",
     "status": "completed"
    },
    "tags": []
   },
   "outputs": [],
   "source": [
    "import seaborn as sns\n",
    "import matplotlib.pyplot as plt\n",
    "%matplotlib inline"
   ]
  },
  {
   "cell_type": "code",
   "execution_count": 17,
   "id": "a8ba5abf",
   "metadata": {
    "execution": {
     "iopub.execute_input": "2022-01-18T08:15:35.184454Z",
     "iopub.status.busy": "2022-01-18T08:15:35.183767Z",
     "iopub.status.idle": "2022-01-18T08:15:35.469092Z",
     "shell.execute_reply": "2022-01-18T08:15:35.468532Z",
     "shell.execute_reply.started": "2022-01-18T07:42:41.624354Z"
    },
    "papermill": {
     "duration": 0.326663,
     "end_time": "2022-01-18T08:15:35.469268",
     "exception": false,
     "start_time": "2022-01-18T08:15:35.142605",
     "status": "completed"
    },
    "tags": []
   },
   "outputs": [
    {
     "data": {
      "text/plain": [
       "<AxesSubplot:>"
      ]
     },
     "execution_count": 17,
     "metadata": {},
     "output_type": "execute_result"
    },
    {
     "data": {
      "image/png": "[encoded data removed]",
      "text/plain": [
       "<Figure size 432x288 with 1 Axes>"
      ]
     },
     "metadata": {
      "needs_background": "light"
     },
     "output_type": "display_data"
    }
   ],
   "source": [
    "target = Y.astype(int)\n",
    "fields = X\n",
    "\n",
    "correlations = fields.corrwith(target)\n",
    "correlations.plot(kind='bar')"
   ]
  },
  {
   "cell_type": "code",
   "execution_count": 18,
   "id": "f759dfa0",
   "metadata": {
    "execution": {
     "iopub.execute_input": "2022-01-18T08:15:35.546560Z",
     "iopub.status.busy": "2022-01-18T08:15:35.545095Z",
     "iopub.status.idle": "2022-01-18T08:15:35.548282Z",
     "shell.execute_reply": "2022-01-18T08:15:35.547705Z",
     "shell.execute_reply.started": "2022-01-18T07:42:41.865758Z"
    },
    "papermill": {
     "duration": 0.043145,
     "end_time": "2022-01-18T08:15:35.548438",
     "exception": false,
     "start_time": "2022-01-18T08:15:35.505293",
     "status": "completed"
    },
    "tags": []
   },
   "outputs": [],
   "source": [
    "predictors = X.columns[0:]"
   ]
  },
  {
   "cell_type": "code",
   "execution_count": 19,
   "id": "1d60f23a",
   "metadata": {
    "execution": {
     "iopub.execute_input": "2022-01-18T08:15:35.629054Z",
     "iopub.status.busy": "2022-01-18T08:15:35.628101Z",
     "iopub.status.idle": "2022-01-18T08:15:36.174088Z",
     "shell.execute_reply": "2022-01-18T08:15:36.174604Z",
     "shell.execute_reply.started": "2022-01-18T07:42:41.872338Z"
    },
    "papermill": {
     "duration": 0.59054,
     "end_time": "2022-01-18T08:15:36.174779",
     "exception": false,
     "start_time": "2022-01-18T08:15:35.584239",
     "status": "completed"
    },
    "tags": []
   },
   "outputs": [
    {
     "data": {
      "image/png": "[encoded data removed]",
      "text/plain": [
       "<Figure size 1296x1296 with 2 Axes>"
      ]
     },
     "metadata": {
      "needs_background": "light"
     },
     "output_type": "display_data"
    }
   ],
   "source": [
    "plt.figure(figsize=(18,18))\n",
    "sns.heatmap(X[predictors].corr(),linewidths=1,annot=True,fmt='.2f')\n",
    "plt.show()"
   ]
  },
  {
   "cell_type": "code",
   "execution_count": 20,
   "id": "20a131a3",
   "metadata": {
    "execution": {
     "iopub.execute_input": "2022-01-18T08:15:36.254016Z",
     "iopub.status.busy": "2022-01-18T08:15:36.253055Z",
     "iopub.status.idle": "2022-01-18T08:15:36.564587Z",
     "shell.execute_reply": "2022-01-18T08:15:36.563620Z",
     "shell.execute_reply.started": "2022-01-18T07:42:42.572342Z"
    },
    "papermill": {
     "duration": 0.353096,
     "end_time": "2022-01-18T08:15:36.564738",
     "exception": false,
     "start_time": "2022-01-18T08:15:36.211642",
     "status": "completed"
    },
    "tags": []
   },
   "outputs": [
    {
     "data": {
      "text/plain": [
       "array([[<AxesSubplot:title={'center':'HEALTHCARE_EXPENSES'}>]],\n",
       "      dtype=object)"
      ]
     },
     "execution_count": 20,
     "metadata": {},
     "output_type": "execute_result"
    },
    {
     "data": {
      "image/png": "[encoded data removed]",
      "text/plain": [
       "<Figure size 1296x1296 with 1 Axes>"
      ]
     },
     "metadata": {
      "needs_background": "light"
     },
     "output_type": "display_data"
    }
   ],
   "source": [
    "train_df[predictors].hist(figsize=(18,18))"
   ]
  },
  {
   "cell_type": "code",
   "execution_count": 21,
   "id": "49caa6d1",
   "metadata": {
    "execution": {
     "iopub.execute_input": "2022-01-18T08:15:36.654975Z",
     "iopub.status.busy": "2022-01-18T08:15:36.653899Z",
     "iopub.status.idle": "2022-01-18T08:15:47.062767Z",
     "shell.execute_reply": "2022-01-18T08:15:47.063308Z",
     "shell.execute_reply.started": "2022-01-18T07:42:42.933485Z"
    },
    "papermill": {
     "duration": 10.460813,
     "end_time": "2022-01-18T08:15:47.063483",
     "exception": false,
     "start_time": "2022-01-18T08:15:36.602670",
     "status": "completed"
    },
    "tags": []
   },
   "outputs": [
    {
     "data": {
      "image/png": "[encoded data removed]",
      "text/plain": [
       "<Figure size 432x288 with 1 Axes>"
      ]
     },
     "metadata": {
      "needs_background": "light"
     },
     "output_type": "display_data"
    },
    {
     "data": {
      "image/png": "[encoded data removed]",
      "text/plain": [
       "<Figure size 432x288 with 1 Axes>"
      ]
     },
     "metadata": {
      "needs_background": "light"
     },
     "output_type": "display_data"
    },
    {
     "data": {
      "image/png": "[encoded data removed]",
      "text/plain": [
       "<Figure size 432x288 with 1 Axes>"
      ]
     },
     "metadata": {
      "needs_background": "light"
     },
     "output_type": "display_data"
    },
    {
     "data": {
      "image/png": "[encoded data removed]",
      "text/plain": [
       "<Figure size 432x288 with 1 Axes>"
      ]
     },
     "metadata": {
      "needs_background": "light"
     },
     "output_type": "display_data"
    },
    {
     "data": {
      "image/png": "[encoded data removed]",
      "text/plain": [
       "<Figure size 432x288 with 1 Axes>"
      ]
     },
     "metadata": {
      "needs_background": "light"
     },
     "output_type": "display_data"
    },
    {
     "data": {
      "image/png": "[encoded data removed]",
      "text/plain": [
       "<Figure size 432x288 with 1 Axes>"
      ]
     },
     "metadata": {
      "needs_background": "light"
     },
     "output_type": "display_data"
    },
    {
     "data": {
      "image/png": "[encoded data removed]",
      "text/plain": [
       "<Figure size 432x288 with 1 Axes>"
      ]
     },
     "metadata": {
      "needs_background": "light"
     },
     "output_type": "display_data"
    }
   ],
   "source": [
    "for col in predictors:\n",
    "    sns.scatterplot(x=train_df[col],y=Y)\n",
    "    plt.show()"
   ]
  },
  {
   "cell_type": "markdown",
   "id": "344ccbdb",
   "metadata": {
    "papermill": {
     "duration": 0.045622,
     "end_time": "2022-01-18T08:15:47.156100",
     "exception": false,
     "start_time": "2022-01-18T08:15:47.110478",
     "status": "completed"
    },
    "tags": []
   },
   "source": [
    "## Logistic Regression"
   ]
  },
  {
   "cell_type": "code",
   "execution_count": 22,
   "id": "40ff73a6",
   "metadata": {
    "execution": {
     "iopub.execute_input": "2022-01-18T08:15:47.257846Z",
     "iopub.status.busy": "2022-01-18T08:15:47.257059Z",
     "iopub.status.idle": "2022-01-18T08:15:47.394880Z",
     "shell.execute_reply": "2022-01-18T08:15:47.394305Z",
     "shell.execute_reply.started": "2022-01-18T07:42:54.601379Z"
    },
    "papermill": {
     "duration": 0.189218,
     "end_time": "2022-01-18T08:15:47.395034",
     "exception": false,
     "start_time": "2022-01-18T08:15:47.205816",
     "status": "completed"
    },
    "tags": []
   },
   "outputs": [],
   "source": [
    "from sklearn.linear_model import LinearRegression"
   ]
  },
  {
   "cell_type": "code",
   "execution_count": 23,
   "id": "1a5ddb63",
   "metadata": {
    "execution": {
     "iopub.execute_input": "2022-01-18T08:15:47.493191Z",
     "iopub.status.busy": "2022-01-18T08:15:47.492221Z",
     "iopub.status.idle": "2022-01-18T08:15:47.515993Z",
     "shell.execute_reply": "2022-01-18T08:15:47.516534Z",
     "shell.execute_reply.started": "2022-01-18T07:42:54.607720Z"
    },
    "papermill": {
     "duration": 0.074166,
     "end_time": "2022-01-18T08:15:47.516717",
     "exception": false,
     "start_time": "2022-01-18T08:15:47.442551",
     "status": "completed"
    },
    "tags": []
   },
   "outputs": [
    {
     "data": {
      "text/plain": [
       "LinearRegression()"
      ]
     },
     "execution_count": 23,
     "metadata": {},
     "output_type": "execute_result"
    }
   ],
   "source": [
    "model = LinearRegression()\n",
    "model.fit(X, Y)"
   ]
  },
  {
   "cell_type": "markdown",
   "id": "64fe71fc",
   "metadata": {
    "papermill": {
     "duration": 0.04782,
     "end_time": "2022-01-18T08:15:47.611323",
     "exception": false,
     "start_time": "2022-01-18T08:15:47.563503",
     "status": "completed"
    },
    "tags": []
   },
   "source": [
    "## Test the data with our model"
   ]
  },
  {
   "cell_type": "code",
   "execution_count": 24,
   "id": "6cb6498c",
   "metadata": {
    "execution": {
     "iopub.execute_input": "2022-01-18T08:15:47.712383Z",
     "iopub.status.busy": "2022-01-18T08:15:47.711384Z",
     "iopub.status.idle": "2022-01-18T08:15:47.718240Z",
     "shell.execute_reply": "2022-01-18T08:15:47.717660Z",
     "shell.execute_reply.started": "2022-01-18T07:53:19.975956Z"
    },
    "papermill": {
     "duration": 0.05868,
     "end_time": "2022-01-18T08:15:47.718399",
     "exception": false,
     "start_time": "2022-01-18T08:15:47.659719",
     "status": "completed"
    },
    "tags": []
   },
   "outputs": [],
   "source": [
    "test_df = test[['RACE', 'ETHNICITY', 'GENDER','BIRTHPLACE', 'CITY', 'COUNTY', 'HEALTHCARE_EXPENSES']]"
   ]
  },
  {
   "cell_type": "code",
   "execution_count": 25,
   "id": "d31d945e",
   "metadata": {
    "execution": {
     "iopub.execute_input": "2022-01-18T08:15:47.821296Z",
     "iopub.status.busy": "2022-01-18T08:15:47.820253Z",
     "iopub.status.idle": "2022-01-18T08:15:47.831700Z",
     "shell.execute_reply": "2022-01-18T08:15:47.832314Z",
     "shell.execute_reply.started": "2022-01-18T07:53:22.187980Z"
    },
    "papermill": {
     "duration": 0.065731,
     "end_time": "2022-01-18T08:15:47.832497",
     "exception": false,
     "start_time": "2022-01-18T08:15:47.766766",
     "status": "completed"
    },
    "tags": []
   },
   "outputs": [
    {
     "data": {
      "text/html": [
       "<div>\n",
       "<style scoped>\n",
       "    .dataframe tbody tr th:only-of-type {\n",
       "        vertical-align: middle;\n",
       "    }\n",
       "\n",
       "    .dataframe tbody tr th {\n",
       "        vertical-align: top;\n",
       "    }\n",
       "\n",
       "    .dataframe thead th {\n",
       "        text-align: right;\n",
       "    }\n",
       "</style>\n",
       "<table border=\"1\" class=\"dataframe\">\n",
       "  <thead>\n",
       "    <tr style=\"text-align: right;\">\n",
       "      <th></th>\n",
       "      <th>RACE</th>\n",
       "      <th>ETHNICITY</th>\n",
       "      <th>GENDER</th>\n",
       "      <th>BIRTHPLACE</th>\n",
       "      <th>CITY</th>\n",
       "      <th>COUNTY</th>\n",
       "      <th>HEALTHCARE_EXPENSES</th>\n",
       "    </tr>\n",
       "  </thead>\n",
       "  <tbody>\n",
       "    <tr>\n",
       "      <th>0</th>\n",
       "      <td>white</td>\n",
       "      <td>nonhispanic</td>\n",
       "      <td>M</td>\n",
       "      <td>East Bridgewater  Massachusetts  US</td>\n",
       "      <td>Cambridge</td>\n",
       "      <td>Middlesex County</td>\n",
       "      <td>977341.80200</td>\n",
       "    </tr>\n",
       "    <tr>\n",
       "      <th>1</th>\n",
       "      <td>white</td>\n",
       "      <td>nonhispanic</td>\n",
       "      <td>M</td>\n",
       "      <td>Lexington  Massachusetts  US</td>\n",
       "      <td>Kingston</td>\n",
       "      <td>Middlesex County</td>\n",
       "      <td>683440.03840</td>\n",
       "    </tr>\n",
       "    <tr>\n",
       "      <th>2</th>\n",
       "      <td>white</td>\n",
       "      <td>nonhispanic</td>\n",
       "      <td>F</td>\n",
       "      <td>Woburn  Massachusetts  US</td>\n",
       "      <td>Fall River</td>\n",
       "      <td>Middlesex County</td>\n",
       "      <td>758751.65560</td>\n",
       "    </tr>\n",
       "    <tr>\n",
       "      <th>3</th>\n",
       "      <td>white</td>\n",
       "      <td>nonhispanic</td>\n",
       "      <td>M</td>\n",
       "      <td>New Bedford  Massachusetts  US</td>\n",
       "      <td>Barnstable</td>\n",
       "      <td>Barnstable County</td>\n",
       "      <td>79532.07604</td>\n",
       "    </tr>\n",
       "    <tr>\n",
       "      <th>4</th>\n",
       "      <td>white</td>\n",
       "      <td>nonhispanic</td>\n",
       "      <td>F</td>\n",
       "      <td>Danvers  Massachusetts  US</td>\n",
       "      <td>Lawrence</td>\n",
       "      <td>Worcester County</td>\n",
       "      <td>93806.91339</td>\n",
       "    </tr>\n",
       "  </tbody>\n",
       "</table>\n",
       "</div>"
      ],
      "text/plain": [
       "    RACE    ETHNICITY GENDER                           BIRTHPLACE        CITY  \\\n",
       "0  white  nonhispanic      M  East Bridgewater  Massachusetts  US   Cambridge   \n",
       "1  white  nonhispanic      M         Lexington  Massachusetts  US    Kingston   \n",
       "2  white  nonhispanic      F            Woburn  Massachusetts  US  Fall River   \n",
       "3  white  nonhispanic      M       New Bedford  Massachusetts  US  Barnstable   \n",
       "4  white  nonhispanic      F           Danvers  Massachusetts  US    Lawrence   \n",
       "\n",
       "              COUNTY  HEALTHCARE_EXPENSES  \n",
       "0   Middlesex County         977341.80200  \n",
       "1   Middlesex County         683440.03840  \n",
       "2   Middlesex County         758751.65560  \n",
       "3  Barnstable County          79532.07604  \n",
       "4   Worcester County          93806.91339  "
      ]
     },
     "execution_count": 25,
     "metadata": {},
     "output_type": "execute_result"
    }
   ],
   "source": [
    "test_df.head()"
   ]
  },
  {
   "cell_type": "code",
   "execution_count": 26,
   "id": "f28b4ed0",
   "metadata": {
    "execution": {
     "iopub.execute_input": "2022-01-18T08:15:47.932978Z",
     "iopub.status.busy": "2022-01-18T08:15:47.931996Z",
     "iopub.status.idle": "2022-01-18T08:15:47.956398Z",
     "shell.execute_reply": "2022-01-18T08:15:47.956912Z",
     "shell.execute_reply.started": "2022-01-18T07:53:27.186601Z"
    },
    "papermill": {
     "duration": 0.07698,
     "end_time": "2022-01-18T08:15:47.957085",
     "exception": false,
     "start_time": "2022-01-18T08:15:47.880105",
     "status": "completed"
    },
    "tags": []
   },
   "outputs": [
    {
     "data": {
      "text/html": [
       "<div>\n",
       "<style scoped>\n",
       "    .dataframe tbody tr th:only-of-type {\n",
       "        vertical-align: middle;\n",
       "    }\n",
       "\n",
       "    .dataframe tbody tr th {\n",
       "        vertical-align: top;\n",
       "    }\n",
       "\n",
       "    .dataframe thead th {\n",
       "        text-align: right;\n",
       "    }\n",
       "</style>\n",
       "<table border=\"1\" class=\"dataframe\">\n",
       "  <thead>\n",
       "    <tr style=\"text-align: right;\">\n",
       "      <th></th>\n",
       "      <th>RACE</th>\n",
       "      <th>ETHNICITY</th>\n",
       "      <th>GENDER</th>\n",
       "      <th>BIRTHPLACE</th>\n",
       "      <th>CITY</th>\n",
       "      <th>COUNTY</th>\n",
       "      <th>HEALTHCARE_EXPENSES</th>\n",
       "    </tr>\n",
       "  </thead>\n",
       "  <tbody>\n",
       "    <tr>\n",
       "      <th>0</th>\n",
       "      <td>4</td>\n",
       "      <td>1</td>\n",
       "      <td>1</td>\n",
       "      <td>74</td>\n",
       "      <td>41</td>\n",
       "      <td>8</td>\n",
       "      <td>2155</td>\n",
       "    </tr>\n",
       "    <tr>\n",
       "      <th>1</th>\n",
       "      <td>4</td>\n",
       "      <td>1</td>\n",
       "      <td>1</td>\n",
       "      <td>143</td>\n",
       "      <td>110</td>\n",
       "      <td>8</td>\n",
       "      <td>1707</td>\n",
       "    </tr>\n",
       "    <tr>\n",
       "      <th>2</th>\n",
       "      <td>4</td>\n",
       "      <td>1</td>\n",
       "      <td>0</td>\n",
       "      <td>318</td>\n",
       "      <td>75</td>\n",
       "      <td>8</td>\n",
       "      <td>1776</td>\n",
       "    </tr>\n",
       "    <tr>\n",
       "      <th>3</th>\n",
       "      <td>4</td>\n",
       "      <td>1</td>\n",
       "      <td>1</td>\n",
       "      <td>185</td>\n",
       "      <td>16</td>\n",
       "      <td>0</td>\n",
       "      <td>568</td>\n",
       "    </tr>\n",
       "    <tr>\n",
       "      <th>4</th>\n",
       "      <td>4</td>\n",
       "      <td>1</td>\n",
       "      <td>0</td>\n",
       "      <td>62</td>\n",
       "      <td>114</td>\n",
       "      <td>13</td>\n",
       "      <td>735</td>\n",
       "    </tr>\n",
       "    <tr>\n",
       "      <th>...</th>\n",
       "      <td>...</td>\n",
       "      <td>...</td>\n",
       "      <td>...</td>\n",
       "      <td>...</td>\n",
       "      <td>...</td>\n",
       "      <td>...</td>\n",
       "      <td>...</td>\n",
       "    </tr>\n",
       "    <tr>\n",
       "      <th>3995</th>\n",
       "      <td>4</td>\n",
       "      <td>1</td>\n",
       "      <td>1</td>\n",
       "      <td>45</td>\n",
       "      <td>246</td>\n",
       "      <td>8</td>\n",
       "      <td>3056</td>\n",
       "    </tr>\n",
       "    <tr>\n",
       "      <th>3996</th>\n",
       "      <td>4</td>\n",
       "      <td>1</td>\n",
       "      <td>1</td>\n",
       "      <td>54</td>\n",
       "      <td>73</td>\n",
       "      <td>8</td>\n",
       "      <td>1326</td>\n",
       "    </tr>\n",
       "    <tr>\n",
       "      <th>3997</th>\n",
       "      <td>4</td>\n",
       "      <td>1</td>\n",
       "      <td>0</td>\n",
       "      <td>45</td>\n",
       "      <td>159</td>\n",
       "      <td>4</td>\n",
       "      <td>2591</td>\n",
       "    </tr>\n",
       "    <tr>\n",
       "      <th>3998</th>\n",
       "      <td>4</td>\n",
       "      <td>1</td>\n",
       "      <td>1</td>\n",
       "      <td>31</td>\n",
       "      <td>58</td>\n",
       "      <td>4</td>\n",
       "      <td>3093</td>\n",
       "    </tr>\n",
       "    <tr>\n",
       "      <th>3999</th>\n",
       "      <td>4</td>\n",
       "      <td>1</td>\n",
       "      <td>0</td>\n",
       "      <td>89</td>\n",
       "      <td>192</td>\n",
       "      <td>13</td>\n",
       "      <td>3439</td>\n",
       "    </tr>\n",
       "  </tbody>\n",
       "</table>\n",
       "<p>4000 rows × 7 columns</p>\n",
       "</div>"
      ],
      "text/plain": [
       "      RACE  ETHNICITY  GENDER  BIRTHPLACE  CITY  COUNTY  HEALTHCARE_EXPENSES\n",
       "0        4          1       1          74    41       8                 2155\n",
       "1        4          1       1         143   110       8                 1707\n",
       "2        4          1       0         318    75       8                 1776\n",
       "3        4          1       1         185    16       0                  568\n",
       "4        4          1       0          62   114      13                  735\n",
       "...    ...        ...     ...         ...   ...     ...                  ...\n",
       "3995     4          1       1          45   246       8                 3056\n",
       "3996     4          1       1          54    73       8                 1326\n",
       "3997     4          1       0          45   159       4                 2591\n",
       "3998     4          1       1          31    58       4                 3093\n",
       "3999     4          1       0          89   192      13                 3439\n",
       "\n",
       "[4000 rows x 7 columns]"
      ]
     },
     "execution_count": 26,
     "metadata": {},
     "output_type": "execute_result"
    }
   ],
   "source": [
    "test_df = test_df.apply(encoder.fit_transform)\n",
    "test_df"
   ]
  },
  {
   "cell_type": "code",
   "execution_count": 27,
   "id": "551d0a13",
   "metadata": {
    "execution": {
     "iopub.execute_input": "2022-01-18T08:15:48.060196Z",
     "iopub.status.busy": "2022-01-18T08:15:48.059192Z",
     "iopub.status.idle": "2022-01-18T08:15:48.064757Z",
     "shell.execute_reply": "2022-01-18T08:15:48.065401Z",
     "shell.execute_reply.started": "2022-01-18T07:53:39.108336Z"
    },
    "papermill": {
     "duration": 0.05955,
     "end_time": "2022-01-18T08:15:48.065577",
     "exception": false,
     "start_time": "2022-01-18T08:15:48.006027",
     "status": "completed"
    },
    "tags": []
   },
   "outputs": [
    {
     "data": {
      "text/plain": [
       "(4000, 7)"
      ]
     },
     "execution_count": 27,
     "metadata": {},
     "output_type": "execute_result"
    }
   ],
   "source": [
    "test_df.shape"
   ]
  },
  {
   "cell_type": "code",
   "execution_count": 28,
   "id": "cabcf9d3",
   "metadata": {
    "execution": {
     "iopub.execute_input": "2022-01-18T08:15:48.169727Z",
     "iopub.status.busy": "2022-01-18T08:15:48.168719Z",
     "iopub.status.idle": "2022-01-18T08:15:48.174169Z",
     "shell.execute_reply": "2022-01-18T08:15:48.174682Z",
     "shell.execute_reply.started": "2022-01-18T08:00:13.745790Z"
    },
    "papermill": {
     "duration": 0.058053,
     "end_time": "2022-01-18T08:15:48.174871",
     "exception": false,
     "start_time": "2022-01-18T08:15:48.116818",
     "status": "completed"
    },
    "tags": []
   },
   "outputs": [
    {
     "data": {
      "text/plain": [
       "4000"
      ]
     },
     "execution_count": 28,
     "metadata": {},
     "output_type": "execute_result"
    }
   ],
   "source": [
    "len(test_df)"
   ]
  },
  {
   "cell_type": "code",
   "execution_count": 29,
   "id": "d510a210",
   "metadata": {
    "execution": {
     "iopub.execute_input": "2022-01-18T08:15:48.286776Z",
     "iopub.status.busy": "2022-01-18T08:15:48.285629Z",
     "iopub.status.idle": "2022-01-18T08:15:48.293124Z",
     "shell.execute_reply": "2022-01-18T08:15:48.294221Z",
     "shell.execute_reply.started": "2022-01-18T07:54:03.440080Z"
    },
    "papermill": {
     "duration": 0.069165,
     "end_time": "2022-01-18T08:15:48.294507",
     "exception": false,
     "start_time": "2022-01-18T08:15:48.225342",
     "status": "completed"
    },
    "tags": []
   },
   "outputs": [
    {
     "name": "stdout",
     "output_type": "stream",
     "text": [
      "[5092.79413983 4433.16124852 3317.03485554 ... 3915.80634335 5591.16094281\n",
      " 5700.53166927]\n"
     ]
    }
   ],
   "source": [
    "predicts = model.predict(test_df)\n",
    "print(predicts)"
   ]
  },
  {
   "cell_type": "code",
   "execution_count": 30,
   "id": "adefacbb",
   "metadata": {
    "execution": {
     "iopub.execute_input": "2022-01-18T08:15:48.449696Z",
     "iopub.status.busy": "2022-01-18T08:15:48.448993Z",
     "iopub.status.idle": "2022-01-18T08:15:48.458566Z",
     "shell.execute_reply": "2022-01-18T08:15:48.459063Z",
     "shell.execute_reply.started": "2022-01-18T08:06:07.161805Z"
    },
    "papermill": {
     "duration": 0.06943,
     "end_time": "2022-01-18T08:15:48.459263",
     "exception": false,
     "start_time": "2022-01-18T08:15:48.389833",
     "status": "completed"
    },
    "tags": []
   },
   "outputs": [
    {
     "name": "stdout",
     "output_type": "stream",
     "text": [
      "        ID  HEALTHCARE_COVERAGE\n",
      "0        1          5092.794140\n",
      "1        2          4433.161249\n",
      "2        3          3317.034856\n",
      "3        4          2451.910668\n",
      "4        5          3174.576210\n",
      "...    ...                  ...\n",
      "3995  3996          5695.115780\n",
      "3996  3997          4243.406777\n",
      "3997  3998          3915.806343\n",
      "3998  3999          5591.160943\n",
      "3999  4000          5700.531669\n",
      "\n",
      "[4000 rows x 2 columns]\n"
     ]
    }
   ],
   "source": [
    "output_ = pd.DataFrame({'ID': [i+1 for i in range(len(test_df))],'HEALTHCARE_COVERAGE': predicts})\n",
    "print(output_)"
   ]
  },
  {
   "cell_type": "markdown",
   "id": "a94de2a4",
   "metadata": {
    "papermill": {
     "duration": 0.049841,
     "end_time": "2022-01-18T08:15:48.558546",
     "exception": false,
     "start_time": "2022-01-18T08:15:48.508705",
     "status": "completed"
    },
    "tags": []
   },
   "source": [
    "## Submission file"
   ]
  },
  {
   "cell_type": "code",
   "execution_count": 31,
   "id": "5bea533e",
   "metadata": {
    "execution": {
     "iopub.execute_input": "2022-01-18T08:15:48.663934Z",
     "iopub.status.busy": "2022-01-18T08:15:48.662927Z",
     "iopub.status.idle": "2022-01-18T08:15:48.684189Z",
     "shell.execute_reply": "2022-01-18T08:15:48.684715Z",
     "shell.execute_reply.started": "2022-01-18T08:06:12.117597Z"
    },
    "papermill": {
     "duration": 0.076672,
     "end_time": "2022-01-18T08:15:48.684901",
     "exception": false,
     "start_time": "2022-01-18T08:15:48.608229",
     "status": "completed"
    },
    "tags": []
   },
   "outputs": [],
   "source": [
    "output_.to_csv('submission.csv', index=False)"
   ]
  },
  {
   "cell_type": "code",
   "execution_count": null,
   "id": "7c12644b",
   "metadata": {
    "papermill": {
     "duration": 0.05013,
     "end_time": "2022-01-18T08:15:48.784612",
     "exception": false,
     "start_time": "2022-01-18T08:15:48.734482",
     "status": "completed"
    },
    "tags": []
   },
   "outputs": [],
   "source": []
  }
 ],
 "metadata": {
  "kernelspec": {
   "display_name": "Python 3",
   "language": "python",
   "name": "python3"
  },
  "language_info": {
   "codemirror_mode": {
    "name": "ipython",
    "version": 3
   },
   "file_extension": ".py",
   "mimetype": "text/x-python",
   "name": "python",
   "nbconvert_exporter": "python",
   "pygments_lexer": "ipython3",
   "version": "3.7.12"
  },
  "papermill": {
   "default_parameters": {},
   "duration": 27.746604,
   "end_time": "2022-01-18T08:15:49.644206",
   "environment_variables": {},
   "exception": null,
   "input_path": "__notebook__.ipynb",
   "output_path": "__notebook__.ipynb",
   "parameters": {},
   "start_time": "2022-01-18T08:15:21.897602",
   "version": "2.3.3"
  }
 },
 "nbformat": 4,
 "nbformat_minor": 5
}
